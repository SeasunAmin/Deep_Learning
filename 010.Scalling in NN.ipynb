{
 "cells": [
  {
   "cell_type": "markdown",
   "id": "6b946926",
   "metadata": {},
   "source": [
    "# Scalling in neural network"
   ]
  },
  {
   "cell_type": "code",
   "execution_count": 1,
   "id": "ab1bd909",
   "metadata": {},
   "outputs": [],
   "source": [
    "import numpy as np\n",
    "import pandas as pd\n",
    "import seaborn as sns\n",
    "import matplotlib.pyplot as plt"
   ]
  },
  {
   "cell_type": "code",
   "execution_count": 2,
   "id": "0d5b4cbc",
   "metadata": {},
   "outputs": [
    {
     "data": {
      "text/html": [
       "<div>\n",
       "<style scoped>\n",
       "    .dataframe tbody tr th:only-of-type {\n",
       "        vertical-align: middle;\n",
       "    }\n",
       "\n",
       "    .dataframe tbody tr th {\n",
       "        vertical-align: top;\n",
       "    }\n",
       "\n",
       "    .dataframe thead th {\n",
       "        text-align: right;\n",
       "    }\n",
       "</style>\n",
       "<table border=\"1\" class=\"dataframe\">\n",
       "  <thead>\n",
       "    <tr style=\"text-align: right;\">\n",
       "      <th></th>\n",
       "      <th>User ID</th>\n",
       "      <th>Gender</th>\n",
       "      <th>Age</th>\n",
       "      <th>EstimatedSalary</th>\n",
       "      <th>Purchased</th>\n",
       "    </tr>\n",
       "  </thead>\n",
       "  <tbody>\n",
       "    <tr>\n",
       "      <th>0</th>\n",
       "      <td>15624510</td>\n",
       "      <td>Male</td>\n",
       "      <td>19</td>\n",
       "      <td>19000</td>\n",
       "      <td>0</td>\n",
       "    </tr>\n",
       "    <tr>\n",
       "      <th>1</th>\n",
       "      <td>15810944</td>\n",
       "      <td>Male</td>\n",
       "      <td>35</td>\n",
       "      <td>20000</td>\n",
       "      <td>0</td>\n",
       "    </tr>\n",
       "    <tr>\n",
       "      <th>2</th>\n",
       "      <td>15668575</td>\n",
       "      <td>Female</td>\n",
       "      <td>26</td>\n",
       "      <td>43000</td>\n",
       "      <td>0</td>\n",
       "    </tr>\n",
       "    <tr>\n",
       "      <th>3</th>\n",
       "      <td>15603246</td>\n",
       "      <td>Female</td>\n",
       "      <td>27</td>\n",
       "      <td>57000</td>\n",
       "      <td>0</td>\n",
       "    </tr>\n",
       "    <tr>\n",
       "      <th>4</th>\n",
       "      <td>15804002</td>\n",
       "      <td>Male</td>\n",
       "      <td>19</td>\n",
       "      <td>76000</td>\n",
       "      <td>0</td>\n",
       "    </tr>\n",
       "  </tbody>\n",
       "</table>\n",
       "</div>"
      ],
      "text/plain": [
       "    User ID  Gender  Age  EstimatedSalary  Purchased\n",
       "0  15624510    Male   19            19000          0\n",
       "1  15810944    Male   35            20000          0\n",
       "2  15668575  Female   26            43000          0\n",
       "3  15603246  Female   27            57000          0\n",
       "4  15804002    Male   19            76000          0"
      ]
     },
     "execution_count": 2,
     "metadata": {},
     "output_type": "execute_result"
    }
   ],
   "source": [
    "df = pd.read_csv('F:/ml_assets/Social_Network_Ads.csv')\n",
    "df.head()"
   ]
  },
  {
   "cell_type": "code",
   "execution_count": 3,
   "id": "7cf1c783",
   "metadata": {},
   "outputs": [
    {
     "data": {
      "text/plain": [
       "<AxesSubplot:xlabel='Age', ylabel='EstimatedSalary'>"
      ]
     },
     "execution_count": 3,
     "metadata": {},
     "output_type": "execute_result"
    },
    {
     "data": {
      "image/png": "[encoded data removed]",
      "text/plain": [
       "<Figure size 432x288 with 1 Axes>"
      ]
     },
     "metadata": {
      "needs_background": "light"
     },
     "output_type": "display_data"
    }
   ],
   "source": [
    "sns.scatterplot(x = df.Age,y=df.EstimatedSalary,)"
   ]
  },
  {
   "cell_type": "code",
   "execution_count": 4,
   "id": "ec368879",
   "metadata": {},
   "outputs": [],
   "source": [
    "x = df.drop(columns=['User ID','Purchased','Gender'])\n",
    "y = df['Purchased']"
   ]
  },
  {
   "cell_type": "code",
   "execution_count": 5,
   "id": "22b64cb2",
   "metadata": {},
   "outputs": [
    {
     "data": {
      "text/html": [
       "<div>\n",
       "<style scoped>\n",
       "    .dataframe tbody tr th:only-of-type {\n",
       "        vertical-align: middle;\n",
       "    }\n",
       "\n",
       "    .dataframe tbody tr th {\n",
       "        vertical-align: top;\n",
       "    }\n",
       "\n",
       "    .dataframe thead th {\n",
       "        text-align: right;\n",
       "    }\n",
       "</style>\n",
       "<table border=\"1\" class=\"dataframe\">\n",
       "  <thead>\n",
       "    <tr style=\"text-align: right;\">\n",
       "      <th></th>\n",
       "      <th>Age</th>\n",
       "      <th>EstimatedSalary</th>\n",
       "    </tr>\n",
       "  </thead>\n",
       "  <tbody>\n",
       "    <tr>\n",
       "      <th>0</th>\n",
       "      <td>19</td>\n",
       "      <td>19000</td>\n",
       "    </tr>\n",
       "    <tr>\n",
       "      <th>1</th>\n",
       "      <td>35</td>\n",
       "      <td>20000</td>\n",
       "    </tr>\n",
       "    <tr>\n",
       "      <th>2</th>\n",
       "      <td>26</td>\n",
       "      <td>43000</td>\n",
       "    </tr>\n",
       "    <tr>\n",
       "      <th>3</th>\n",
       "      <td>27</td>\n",
       "      <td>57000</td>\n",
       "    </tr>\n",
       "    <tr>\n",
       "      <th>4</th>\n",
       "      <td>19</td>\n",
       "      <td>76000</td>\n",
       "    </tr>\n",
       "  </tbody>\n",
       "</table>\n",
       "</div>"
      ],
      "text/plain": [
       "   Age  EstimatedSalary\n",
       "0   19            19000\n",
       "1   35            20000\n",
       "2   26            43000\n",
       "3   27            57000\n",
       "4   19            76000"
      ]
     },
     "execution_count": 5,
     "metadata": {},
     "output_type": "execute_result"
    }
   ],
   "source": [
    "x.head()"
   ]
  },
  {
   "cell_type": "code",
   "execution_count": 6,
   "id": "3ad06756",
   "metadata": {},
   "outputs": [
    {
     "data": {
      "text/plain": [
       "0    0\n",
       "1    0\n",
       "2    0\n",
       "3    0\n",
       "4    0\n",
       "Name: Purchased, dtype: int64"
      ]
     },
     "execution_count": 6,
     "metadata": {},
     "output_type": "execute_result"
    }
   ],
   "source": [
    "y.head()"
   ]
  },
  {
   "cell_type": "code",
   "execution_count": 7,
   "id": "22b87865",
   "metadata": {},
   "outputs": [],
   "source": [
    "#spliting the data\n",
    "\n",
    "from sklearn.model_selection import train_test_split\n",
    "\n",
    "x_train,x_test,y_train,y_test = train_test_split(x,y,test_size=.20,random_state=1)"
   ]
  },
  {
   "cell_type": "code",
   "execution_count": 8,
   "id": "9d67c077",
   "metadata": {},
   "outputs": [
    {
     "data": {
      "text/plain": [
       "((320, 2), (80, 2), (320,), (80,))"
      ]
     },
     "execution_count": 8,
     "metadata": {},
     "output_type": "execute_result"
    }
   ],
   "source": [
    "x_train.shape,x_test.shape,y_train.shape,y_test.shape"
   ]
  },
  {
   "cell_type": "code",
   "execution_count": 9,
   "id": "bcca9b22",
   "metadata": {},
   "outputs": [],
   "source": [
    "# model building\n",
    "\n",
    "import tensorflow\n",
    "from tensorflow import keras\n",
    "from tensorflow.keras import Sequential\n",
    "from tensorflow.keras.layers import Dense"
   ]
  },
  {
   "cell_type": "code",
   "execution_count": 10,
   "id": "726be3ec",
   "metadata": {},
   "outputs": [],
   "source": [
    "model = Sequential()\n",
    "\n",
    "model.add(Dense(132,activation='relu',input_dim=2,))\n",
    "model.add(Dense(1,activation='sigmoid'))"
   ]
  },
  {
   "cell_type": "code",
   "execution_count": 11,
   "id": "de106e9e",
   "metadata": {},
   "outputs": [
    {
     "name": "stdout",
     "output_type": "stream",
     "text": [
      "Model: \"sequential\"\n",
      "_________________________________________________________________\n",
      " Layer (type)                Output Shape              Param #   \n",
      "=================================================================\n",
      " dense (Dense)               (None, 132)               396       \n",
      "                                                                 \n",
      " dense_1 (Dense)             (None, 1)                 133       \n",
      "                                                                 \n",
      "=================================================================\n",
      "Total params: 529\n",
      "Trainable params: 529\n",
      "Non-trainable params: 0\n",
      "_________________________________________________________________\n"
     ]
    }
   ],
   "source": [
    "model.summary()"
   ]
  },
  {
   "cell_type": "code",
   "execution_count": 12,
   "id": "7fff3a1d",
   "metadata": {},
   "outputs": [],
   "source": [
    "model.compile(optimizer='Adam',loss='binary_crossentropy',metrics=['accuracy'])"
   ]
  },
  {
   "cell_type": "code",
   "execution_count": 13,
   "id": "33eebe6d",
   "metadata": {},
   "outputs": [
    {
     "name": "stdout",
     "output_type": "stream",
     "text": [
      "Epoch 1/100\n",
      "10/10 [==============================] - 1s 53ms/step - loss: 2474.5630 - accuracy: 0.3469 - val_loss: 306.0020 - val_accuracy: 0.6000\n",
      "Epoch 2/100\n",
      "10/10 [==============================] - 0s 9ms/step - loss: 795.1849 - accuracy: 0.6531 - val_loss: 807.6859 - val_accuracy: 0.6000\n",
      "Epoch 3/100\n",
      "10/10 [==============================] - 0s 9ms/step - loss: 389.6797 - accuracy: 0.4344 - val_loss: 213.6853 - val_accuracy: 0.4000\n",
      "Epoch 4/100\n",
      "10/10 [==============================] - 0s 8ms/step - loss: 180.1721 - accuracy: 0.6094 - val_loss: 22.3504 - val_accuracy: 0.4000\n",
      "Epoch 5/100\n",
      "10/10 [==============================] - 0s 9ms/step - loss: 59.9312 - accuracy: 0.4531 - val_loss: 40.7674 - val_accuracy: 0.4000\n",
      "Epoch 6/100\n",
      "10/10 [==============================] - 0s 8ms/step - loss: 28.7341 - accuracy: 0.5094 - val_loss: 10.1401 - val_accuracy: 0.4000\n",
      "Epoch 7/100\n",
      "10/10 [==============================] - 0s 5ms/step - loss: 23.3973 - accuracy: 0.4781 - val_loss: 39.3008 - val_accuracy: 0.6000\n",
      "Epoch 8/100\n",
      "10/10 [==============================] - 0s 5ms/step - loss: 18.7530 - accuracy: 0.5469 - val_loss: 15.7999 - val_accuracy: 0.6000\n",
      "Epoch 9/100\n",
      "10/10 [==============================] - 0s 5ms/step - loss: 25.3189 - accuracy: 0.5406 - val_loss: 15.7076 - val_accuracy: 0.4000\n",
      "Epoch 10/100\n",
      "10/10 [==============================] - 0s 6ms/step - loss: 34.8290 - accuracy: 0.5594 - val_loss: 17.0294 - val_accuracy: 0.4000\n",
      "Epoch 11/100\n",
      "10/10 [==============================] - 0s 6ms/step - loss: 39.5284 - accuracy: 0.5219 - val_loss: 132.8490 - val_accuracy: 0.6000\n",
      "Epoch 12/100\n",
      "10/10 [==============================] - 0s 6ms/step - loss: 75.2039 - accuracy: 0.5594 - val_loss: 84.0016 - val_accuracy: 0.6000\n",
      "Epoch 13/100\n",
      "10/10 [==============================] - 0s 5ms/step - loss: 98.1951 - accuracy: 0.4781 - val_loss: 82.0480 - val_accuracy: 0.6000\n",
      "Epoch 14/100\n",
      "10/10 [==============================] - 0s 5ms/step - loss: 66.7919 - accuracy: 0.5469 - val_loss: 38.8481 - val_accuracy: 0.4000\n",
      "Epoch 15/100\n",
      "10/10 [==============================] - 0s 5ms/step - loss: 25.6430 - accuracy: 0.4719 - val_loss: 29.0146 - val_accuracy: 0.6000\n",
      "Epoch 16/100\n",
      "10/10 [==============================] - 0s 5ms/step - loss: 27.9810 - accuracy: 0.5281 - val_loss: 43.4730 - val_accuracy: 0.4000\n",
      "Epoch 17/100\n",
      "10/10 [==============================] - 0s 6ms/step - loss: 35.3363 - accuracy: 0.4844 - val_loss: 56.0106 - val_accuracy: 0.4000\n",
      "Epoch 18/100\n",
      "10/10 [==============================] - 0s 6ms/step - loss: 39.9187 - accuracy: 0.5656 - val_loss: 77.5707 - val_accuracy: 0.6000\n",
      "Epoch 19/100\n",
      "10/10 [==============================] - 0s 5ms/step - loss: 38.2393 - accuracy: 0.5781 - val_loss: 59.7478 - val_accuracy: 0.4000\n",
      "Epoch 20/100\n",
      "10/10 [==============================] - 0s 5ms/step - loss: 67.2111 - accuracy: 0.4531 - val_loss: 84.4865 - val_accuracy: 0.6000\n",
      "Epoch 21/100\n",
      "10/10 [==============================] - 0s 5ms/step - loss: 90.1035 - accuracy: 0.5219 - val_loss: 179.5499 - val_accuracy: 0.6000\n",
      "Epoch 22/100\n",
      "10/10 [==============================] - 0s 5ms/step - loss: 115.8470 - accuracy: 0.5719 - val_loss: 14.8793 - val_accuracy: 0.4000\n",
      "Epoch 23/100\n",
      "10/10 [==============================] - 0s 5ms/step - loss: 117.1369 - accuracy: 0.5219 - val_loss: 119.3083 - val_accuracy: 0.4000\n",
      "Epoch 24/100\n",
      "10/10 [==============================] - 0s 4ms/step - loss: 115.0666 - accuracy: 0.5719 - val_loss: 194.6636 - val_accuracy: 0.4000\n",
      "Epoch 25/100\n",
      "10/10 [==============================] - 0s 5ms/step - loss: 105.6272 - accuracy: 0.5344 - val_loss: 120.8992 - val_accuracy: 0.4000\n",
      "Epoch 26/100\n",
      "10/10 [==============================] - 0s 6ms/step - loss: 79.7001 - accuracy: 0.4656 - val_loss: 9.3386 - val_accuracy: 0.6000\n",
      "Epoch 27/100\n",
      "10/10 [==============================] - 0s 6ms/step - loss: 22.3595 - accuracy: 0.5656 - val_loss: 15.0600 - val_accuracy: 0.6000\n",
      "Epoch 28/100\n",
      "10/10 [==============================] - 0s 6ms/step - loss: 24.7036 - accuracy: 0.4969 - val_loss: 9.2412 - val_accuracy: 0.6000\n",
      "Epoch 29/100\n",
      "10/10 [==============================] - 0s 6ms/step - loss: 24.6608 - accuracy: 0.5719 - val_loss: 40.2752 - val_accuracy: 0.4000\n",
      "Epoch 30/100\n",
      "10/10 [==============================] - 0s 5ms/step - loss: 53.5779 - accuracy: 0.5594 - val_loss: 21.4153 - val_accuracy: 0.4000\n",
      "Epoch 31/100\n",
      "10/10 [==============================] - 0s 5ms/step - loss: 36.6388 - accuracy: 0.5531 - val_loss: 69.3270 - val_accuracy: 0.6000\n",
      "Epoch 32/100\n",
      "10/10 [==============================] - 0s 5ms/step - loss: 32.1193 - accuracy: 0.5031 - val_loss: 60.4412 - val_accuracy: 0.6000\n",
      "Epoch 33/100\n",
      "10/10 [==============================] - 0s 5ms/step - loss: 73.2868 - accuracy: 0.5156 - val_loss: 97.3442 - val_accuracy: 0.6000\n",
      "Epoch 34/100\n",
      "10/10 [==============================] - 0s 5ms/step - loss: 46.2247 - accuracy: 0.5531 - val_loss: 75.1488 - val_accuracy: 0.4000\n",
      "Epoch 35/100\n",
      "10/10 [==============================] - 0s 4ms/step - loss: 29.0414 - accuracy: 0.5437 - val_loss: 46.1729 - val_accuracy: 0.4000\n",
      "Epoch 36/100\n",
      "10/10 [==============================] - 0s 5ms/step - loss: 28.4798 - accuracy: 0.5219 - val_loss: 6.2714 - val_accuracy: 0.4000\n",
      "Epoch 37/100\n",
      "10/10 [==============================] - 0s 5ms/step - loss: 46.8934 - accuracy: 0.4844 - val_loss: 68.9234 - val_accuracy: 0.4000\n",
      "Epoch 38/100\n",
      "10/10 [==============================] - 0s 6ms/step - loss: 27.5813 - accuracy: 0.5656 - val_loss: 8.4727 - val_accuracy: 0.4000\n",
      "Epoch 39/100\n",
      "10/10 [==============================] - 0s 8ms/step - loss: 22.1646 - accuracy: 0.5281 - val_loss: 17.2601 - val_accuracy: 0.6000\n",
      "Epoch 40/100\n",
      "10/10 [==============================] - 0s 9ms/step - loss: 17.0831 - accuracy: 0.5344 - val_loss: 2.4367 - val_accuracy: 0.6000\n",
      "Epoch 41/100\n",
      "10/10 [==============================] - 0s 9ms/step - loss: 47.0831 - accuracy: 0.5719 - val_loss: 89.2943 - val_accuracy: 0.4000\n",
      "Epoch 42/100\n",
      "10/10 [==============================] - 0s 8ms/step - loss: 97.1520 - accuracy: 0.4906 - val_loss: 84.3946 - val_accuracy: 0.4000\n",
      "Epoch 43/100\n",
      "10/10 [==============================] - 0s 8ms/step - loss: 78.4651 - accuracy: 0.5281 - val_loss: 59.3131 - val_accuracy: 0.4000\n",
      "Epoch 44/100\n",
      "10/10 [==============================] - 0s 7ms/step - loss: 85.5096 - accuracy: 0.4844 - val_loss: 83.5427 - val_accuracy: 0.6000\n",
      "Epoch 45/100\n",
      "10/10 [==============================] - 0s 9ms/step - loss: 88.5728 - accuracy: 0.5344 - val_loss: 145.8647 - val_accuracy: 0.6000\n",
      "Epoch 46/100\n",
      "10/10 [==============================] - 0s 9ms/step - loss: 91.9162 - accuracy: 0.5344 - val_loss: 179.1530 - val_accuracy: 0.6000\n",
      "Epoch 47/100\n",
      "10/10 [==============================] - 0s 9ms/step - loss: 116.2611 - accuracy: 0.4906 - val_loss: 224.7474 - val_accuracy: 0.6000\n",
      "Epoch 48/100\n",
      "10/10 [==============================] - 0s 9ms/step - loss: 171.8894 - accuracy: 0.5156 - val_loss: 62.8531 - val_accuracy: 0.4000\n",
      "Epoch 49/100\n",
      "10/10 [==============================] - 0s 9ms/step - loss: 121.6772 - accuracy: 0.5906 - val_loss: 265.9873 - val_accuracy: 0.4000\n",
      "Epoch 50/100\n",
      "10/10 [==============================] - 0s 9ms/step - loss: 181.7282 - accuracy: 0.5594 - val_loss: 181.5606 - val_accuracy: 0.6000\n",
      "Epoch 51/100\n",
      "10/10 [==============================] - 0s 9ms/step - loss: 118.2649 - accuracy: 0.4969 - val_loss: 95.0055 - val_accuracy: 0.6000\n",
      "Epoch 52/100\n",
      "10/10 [==============================] - 0s 8ms/step - loss: 59.6326 - accuracy: 0.4469 - val_loss: 31.3041 - val_accuracy: 0.4000\n",
      "Epoch 53/100\n",
      "10/10 [==============================] - 0s 11ms/step - loss: 101.3199 - accuracy: 0.4906 - val_loss: 22.6306 - val_accuracy: 0.4000\n",
      "Epoch 54/100\n",
      "10/10 [==============================] - 0s 9ms/step - loss: 110.4613 - accuracy: 0.5156 - val_loss: 67.8672 - val_accuracy: 0.4000\n",
      "Epoch 55/100\n",
      "10/10 [==============================] - 0s 5ms/step - loss: 61.9733 - accuracy: 0.4969 - val_loss: 67.1502 - val_accuracy: 0.6000\n",
      "Epoch 56/100\n",
      "10/10 [==============================] - 0s 5ms/step - loss: 76.5252 - accuracy: 0.5281 - val_loss: 15.0360 - val_accuracy: 0.4000\n",
      "Epoch 57/100\n",
      "10/10 [==============================] - 0s 5ms/step - loss: 16.4137 - accuracy: 0.5406 - val_loss: 57.5508 - val_accuracy: 0.6000\n"
     ]
    },
    {
     "name": "stdout",
     "output_type": "stream",
     "text": [
      "Epoch 58/100\n",
      "10/10 [==============================] - 0s 4ms/step - loss: 53.3349 - accuracy: 0.4969 - val_loss: 53.1102 - val_accuracy: 0.4000\n",
      "Epoch 59/100\n",
      "10/10 [==============================] - 0s 5ms/step - loss: 92.2048 - accuracy: 0.5219 - val_loss: 94.5245 - val_accuracy: 0.4000\n",
      "Epoch 60/100\n",
      "10/10 [==============================] - 0s 5ms/step - loss: 47.9951 - accuracy: 0.4781 - val_loss: 45.3854 - val_accuracy: 0.4000\n",
      "Epoch 61/100\n",
      "10/10 [==============================] - 0s 5ms/step - loss: 58.8105 - accuracy: 0.5156 - val_loss: 101.4733 - val_accuracy: 0.6000\n",
      "Epoch 62/100\n",
      "10/10 [==============================] - 0s 5ms/step - loss: 95.8705 - accuracy: 0.5031 - val_loss: 35.4999 - val_accuracy: 0.6000\n",
      "Epoch 63/100\n",
      "10/10 [==============================] - 0s 3ms/step - loss: 71.7972 - accuracy: 0.5344 - val_loss: 102.7239 - val_accuracy: 0.4000\n",
      "Epoch 64/100\n",
      "10/10 [==============================] - 0s 4ms/step - loss: 94.2994 - accuracy: 0.4969 - val_loss: 58.7571 - val_accuracy: 0.4000\n",
      "Epoch 65/100\n",
      "10/10 [==============================] - 0s 3ms/step - loss: 20.8586 - accuracy: 0.5594 - val_loss: 51.7431 - val_accuracy: 0.6000\n",
      "Epoch 66/100\n",
      "10/10 [==============================] - 0s 4ms/step - loss: 22.7857 - accuracy: 0.4719 - val_loss: 65.7991 - val_accuracy: 0.6000\n",
      "Epoch 67/100\n",
      "10/10 [==============================] - 0s 5ms/step - loss: 70.9057 - accuracy: 0.5281 - val_loss: 172.2950 - val_accuracy: 0.6000\n",
      "Epoch 68/100\n",
      "10/10 [==============================] - 0s 5ms/step - loss: 91.5850 - accuracy: 0.5406 - val_loss: 173.3139 - val_accuracy: 0.6000\n",
      "Epoch 69/100\n",
      "10/10 [==============================] - 0s 4ms/step - loss: 97.7235 - accuracy: 0.5156 - val_loss: 161.0750 - val_accuracy: 0.6000\n",
      "Epoch 70/100\n",
      "10/10 [==============================] - 0s 6ms/step - loss: 61.9921 - accuracy: 0.5031 - val_loss: 132.5256 - val_accuracy: 0.4000\n",
      "Epoch 71/100\n",
      "10/10 [==============================] - 0s 4ms/step - loss: 72.9077 - accuracy: 0.4219 - val_loss: 66.8195 - val_accuracy: 0.6000\n",
      "Epoch 72/100\n",
      "10/10 [==============================] - 0s 4ms/step - loss: 75.1843 - accuracy: 0.5094 - val_loss: 201.6419 - val_accuracy: 0.6000\n",
      "Epoch 73/100\n",
      "10/10 [==============================] - 0s 4ms/step - loss: 103.7674 - accuracy: 0.5469 - val_loss: 89.0930 - val_accuracy: 0.6000\n",
      "Epoch 74/100\n",
      "10/10 [==============================] - 0s 4ms/step - loss: 140.0699 - accuracy: 0.4906 - val_loss: 40.9885 - val_accuracy: 0.4000\n",
      "Epoch 75/100\n",
      "10/10 [==============================] - 0s 5ms/step - loss: 110.7903 - accuracy: 0.5969 - val_loss: 212.9426 - val_accuracy: 0.4000\n",
      "Epoch 76/100\n",
      "10/10 [==============================] - 0s 5ms/step - loss: 79.2365 - accuracy: 0.4656 - val_loss: 51.8225 - val_accuracy: 0.6000\n",
      "Epoch 77/100\n",
      "10/10 [==============================] - 0s 5ms/step - loss: 40.1121 - accuracy: 0.5469 - val_loss: 9.9798 - val_accuracy: 0.4000\n",
      "Epoch 78/100\n",
      "10/10 [==============================] - 0s 5ms/step - loss: 45.3295 - accuracy: 0.5219 - val_loss: 6.9465 - val_accuracy: 0.6000\n",
      "Epoch 79/100\n",
      "10/10 [==============================] - 0s 5ms/step - loss: 47.2447 - accuracy: 0.4500 - val_loss: 17.4812 - val_accuracy: 0.6000\n",
      "Epoch 80/100\n",
      "10/10 [==============================] - 0s 5ms/step - loss: 37.9167 - accuracy: 0.5031 - val_loss: 23.7296 - val_accuracy: 0.6000\n",
      "Epoch 81/100\n",
      "10/10 [==============================] - 0s 5ms/step - loss: 20.3298 - accuracy: 0.5500 - val_loss: 24.2729 - val_accuracy: 0.6000\n",
      "Epoch 82/100\n",
      "10/10 [==============================] - 0s 5ms/step - loss: 21.2729 - accuracy: 0.5469 - val_loss: 18.6707 - val_accuracy: 0.4000\n",
      "Epoch 83/100\n",
      "10/10 [==============================] - 0s 5ms/step - loss: 47.7337 - accuracy: 0.5000 - val_loss: 130.3925 - val_accuracy: 0.6000\n",
      "Epoch 84/100\n",
      "10/10 [==============================] - 0s 7ms/step - loss: 42.7018 - accuracy: 0.5469 - val_loss: 4.3838 - val_accuracy: 0.4000\n",
      "Epoch 85/100\n",
      "10/10 [==============================] - 0s 8ms/step - loss: 20.8550 - accuracy: 0.4875 - val_loss: 60.1641 - val_accuracy: 0.6000\n",
      "Epoch 86/100\n",
      "10/10 [==============================] - 0s 9ms/step - loss: 23.6894 - accuracy: 0.5188 - val_loss: 16.6135 - val_accuracy: 0.6000\n",
      "Epoch 87/100\n",
      "10/10 [==============================] - 0s 9ms/step - loss: 22.1387 - accuracy: 0.4969 - val_loss: 14.2480 - val_accuracy: 0.6000\n",
      "Epoch 88/100\n",
      "10/10 [==============================] - 0s 10ms/step - loss: 11.6760 - accuracy: 0.5875 - val_loss: 40.4911 - val_accuracy: 0.6000\n",
      "Epoch 89/100\n",
      "10/10 [==============================] - 0s 9ms/step - loss: 43.7193 - accuracy: 0.4719 - val_loss: 52.0961 - val_accuracy: 0.6000\n",
      "Epoch 90/100\n",
      "10/10 [==============================] - 0s 7ms/step - loss: 66.6481 - accuracy: 0.5531 - val_loss: 177.3828 - val_accuracy: 0.6000\n",
      "Epoch 91/100\n",
      "10/10 [==============================] - 0s 9ms/step - loss: 51.7107 - accuracy: 0.5406 - val_loss: 83.9502 - val_accuracy: 0.4000\n",
      "Epoch 92/100\n",
      "10/10 [==============================] - 0s 8ms/step - loss: 40.5668 - accuracy: 0.5344 - val_loss: 56.5084 - val_accuracy: 0.6000\n",
      "Epoch 93/100\n",
      "10/10 [==============================] - 0s 9ms/step - loss: 50.6031 - accuracy: 0.5281 - val_loss: 27.8705 - val_accuracy: 0.4000\n",
      "Epoch 94/100\n",
      "10/10 [==============================] - 0s 9ms/step - loss: 29.0543 - accuracy: 0.5375 - val_loss: 53.2635 - val_accuracy: 0.6000\n",
      "Epoch 95/100\n",
      "10/10 [==============================] - 0s 8ms/step - loss: 35.3202 - accuracy: 0.4969 - val_loss: 13.0450 - val_accuracy: 0.6000\n",
      "Epoch 96/100\n",
      "10/10 [==============================] - 0s 9ms/step - loss: 54.3914 - accuracy: 0.5344 - val_loss: 124.8109 - val_accuracy: 0.4000\n",
      "Epoch 97/100\n",
      "10/10 [==============================] - 0s 7ms/step - loss: 94.1490 - accuracy: 0.5344 - val_loss: 206.5443 - val_accuracy: 0.4000\n",
      "Epoch 98/100\n",
      "10/10 [==============================] - 0s 9ms/step - loss: 135.2487 - accuracy: 0.5219 - val_loss: 41.3975 - val_accuracy: 0.4000\n",
      "Epoch 99/100\n",
      "10/10 [==============================] - 0s 8ms/step - loss: 40.0773 - accuracy: 0.4812 - val_loss: 6.2486 - val_accuracy: 0.4000\n",
      "Epoch 100/100\n",
      "10/10 [==============================] - 0s 8ms/step - loss: 25.3171 - accuracy: 0.4750 - val_loss: 1.0593 - val_accuracy: 0.6125\n"
     ]
    }
   ],
   "source": [
    "history = model.fit(x_train,y_train,validation_data=(x_test,y_test),epochs=100)"
   ]
  },
  {
   "cell_type": "code",
   "execution_count": 15,
   "id": "4d4b5ecc",
   "metadata": {},
   "outputs": [
    {
     "data": {
      "image/png": "[encoded data removed]",
      "text/plain": [
       "<Figure size 432x288 with 1 Axes>"
      ]
     },
     "metadata": {
      "needs_background": "light"
     },
     "output_type": "display_data"
    }
   ],
   "source": [
    "plt.plot(history.history['val_accuracy'],label=\"traning\" )\n",
    "\n",
    "plt.legend()\n",
    "plt.show()"
   ]
  },
  {
   "cell_type": "markdown",
   "id": "a5d10b3f",
   "metadata": {},
   "source": [
    "# scalling the data"
   ]
  },
  {
   "cell_type": "code",
   "execution_count": 16,
   "id": "9f342b81",
   "metadata": {},
   "outputs": [],
   "source": [
    "from sklearn.preprocessing import StandardScaler\n",
    "scaler = StandardScaler()\n",
    "\n",
    "x_train_scaled = scaler.fit_transform(x_train)\n",
    "x_test_scaled = scaler.transform(x_test)"
   ]
  },
  {
   "cell_type": "code",
   "execution_count": 17,
   "id": "b4384e0b",
   "metadata": {},
   "outputs": [
    {
     "data": {
      "text/plain": [
       "<AxesSubplot:>"
      ]
     },
     "execution_count": 17,
     "metadata": {},
     "output_type": "execute_result"
    },
    {
     "data": {
      "image/png": "[encoded data removed]",
      "text/plain": [
       "<Figure size 432x288 with 1 Axes>"
      ]
     },
     "metadata": {
      "needs_background": "light"
     },
     "output_type": "display_data"
    }
   ],
   "source": [
    "sns.scatterplot(x = x_train_scaled[:,0],y = x_train_scaled[:,1])"
   ]
  },
  {
   "cell_type": "code",
   "execution_count": 18,
   "id": "912f853c",
   "metadata": {},
   "outputs": [
    {
     "name": "stdout",
     "output_type": "stream",
     "text": [
      "Epoch 1/100\n",
      "10/10 [==============================] - 1s 27ms/step - loss: 0.6402 - accuracy: 0.7437 - val_loss: 0.6197 - val_accuracy: 0.7750\n",
      "Epoch 2/100\n",
      "10/10 [==============================] - 0s 6ms/step - loss: 0.5922 - accuracy: 0.7969 - val_loss: 0.5805 - val_accuracy: 0.7875\n",
      "Epoch 3/100\n",
      "10/10 [==============================] - 0s 5ms/step - loss: 0.5515 - accuracy: 0.8250 - val_loss: 0.5471 - val_accuracy: 0.7875\n",
      "Epoch 4/100\n",
      "10/10 [==============================] - 0s 5ms/step - loss: 0.5163 - accuracy: 0.8344 - val_loss: 0.5189 - val_accuracy: 0.8000\n",
      "Epoch 5/100\n",
      "10/10 [==============================] - 0s 5ms/step - loss: 0.4855 - accuracy: 0.8406 - val_loss: 0.4944 - val_accuracy: 0.8250\n",
      "Epoch 6/100\n",
      "10/10 [==============================] - 0s 5ms/step - loss: 0.4573 - accuracy: 0.8500 - val_loss: 0.4729 - val_accuracy: 0.8375\n",
      "Epoch 7/100\n",
      "10/10 [==============================] - 0s 4ms/step - loss: 0.4318 - accuracy: 0.8531 - val_loss: 0.4540 - val_accuracy: 0.8375\n",
      "Epoch 8/100\n",
      "10/10 [==============================] - 0s 5ms/step - loss: 0.4087 - accuracy: 0.8469 - val_loss: 0.4374 - val_accuracy: 0.8375\n",
      "Epoch 9/100\n",
      "10/10 [==============================] - 0s 5ms/step - loss: 0.3880 - accuracy: 0.8531 - val_loss: 0.4227 - val_accuracy: 0.8375\n",
      "Epoch 10/100\n",
      "10/10 [==============================] - 0s 5ms/step - loss: 0.3691 - accuracy: 0.8656 - val_loss: 0.4089 - val_accuracy: 0.8625\n",
      "Epoch 11/100\n",
      "10/10 [==============================] - 0s 4ms/step - loss: 0.3519 - accuracy: 0.8875 - val_loss: 0.3993 - val_accuracy: 0.8625\n",
      "Epoch 12/100\n",
      "10/10 [==============================] - 0s 5ms/step - loss: 0.3373 - accuracy: 0.8938 - val_loss: 0.3890 - val_accuracy: 0.8625\n",
      "Epoch 13/100\n",
      "10/10 [==============================] - 0s 5ms/step - loss: 0.3234 - accuracy: 0.8938 - val_loss: 0.3811 - val_accuracy: 0.8750\n",
      "Epoch 14/100\n",
      "10/10 [==============================] - 0s 5ms/step - loss: 0.3122 - accuracy: 0.8969 - val_loss: 0.3736 - val_accuracy: 0.8625\n",
      "Epoch 15/100\n",
      "10/10 [==============================] - 0s 5ms/step - loss: 0.3018 - accuracy: 0.8969 - val_loss: 0.3688 - val_accuracy: 0.8750\n",
      "Epoch 16/100\n",
      "10/10 [==============================] - 0s 5ms/step - loss: 0.2929 - accuracy: 0.8969 - val_loss: 0.3645 - val_accuracy: 0.8750\n",
      "Epoch 17/100\n",
      "10/10 [==============================] - 0s 4ms/step - loss: 0.2848 - accuracy: 0.9031 - val_loss: 0.3601 - val_accuracy: 0.8750\n",
      "Epoch 18/100\n",
      "10/10 [==============================] - 0s 9ms/step - loss: 0.2780 - accuracy: 0.9062 - val_loss: 0.3577 - val_accuracy: 0.8750\n",
      "Epoch 19/100\n",
      "10/10 [==============================] - 0s 9ms/step - loss: 0.2716 - accuracy: 0.9031 - val_loss: 0.3551 - val_accuracy: 0.8750\n",
      "Epoch 20/100\n",
      "10/10 [==============================] - 0s 9ms/step - loss: 0.2664 - accuracy: 0.9031 - val_loss: 0.3544 - val_accuracy: 0.8750\n",
      "Epoch 21/100\n",
      "10/10 [==============================] - 0s 9ms/step - loss: 0.2620 - accuracy: 0.9062 - val_loss: 0.3504 - val_accuracy: 0.8750\n",
      "Epoch 22/100\n",
      "10/10 [==============================] - 0s 9ms/step - loss: 0.2574 - accuracy: 0.9094 - val_loss: 0.3495 - val_accuracy: 0.8625\n",
      "Epoch 23/100\n",
      "10/10 [==============================] - 0s 7ms/step - loss: 0.2538 - accuracy: 0.9125 - val_loss: 0.3480 - val_accuracy: 0.8625\n",
      "Epoch 24/100\n",
      "10/10 [==============================] - 0s 9ms/step - loss: 0.2505 - accuracy: 0.9125 - val_loss: 0.3528 - val_accuracy: 0.8625\n",
      "Epoch 25/100\n",
      "10/10 [==============================] - 0s 10ms/step - loss: 0.2469 - accuracy: 0.9125 - val_loss: 0.3519 - val_accuracy: 0.8750\n",
      "Epoch 26/100\n",
      "10/10 [==============================] - 0s 9ms/step - loss: 0.2443 - accuracy: 0.9125 - val_loss: 0.3529 - val_accuracy: 0.8750\n",
      "Epoch 27/100\n",
      "10/10 [==============================] - 0s 9ms/step - loss: 0.2418 - accuracy: 0.9156 - val_loss: 0.3548 - val_accuracy: 0.8750\n",
      "Epoch 28/100\n",
      "10/10 [==============================] - 0s 9ms/step - loss: 0.2394 - accuracy: 0.9187 - val_loss: 0.3521 - val_accuracy: 0.8750\n",
      "Epoch 29/100\n",
      "10/10 [==============================] - 0s 9ms/step - loss: 0.2373 - accuracy: 0.9187 - val_loss: 0.3529 - val_accuracy: 0.8750\n",
      "Epoch 30/100\n",
      "10/10 [==============================] - 0s 9ms/step - loss: 0.2352 - accuracy: 0.9187 - val_loss: 0.3536 - val_accuracy: 0.8750\n",
      "Epoch 31/100\n",
      "10/10 [==============================] - 0s 9ms/step - loss: 0.2336 - accuracy: 0.9187 - val_loss: 0.3547 - val_accuracy: 0.8750\n",
      "Epoch 32/100\n",
      "10/10 [==============================] - 0s 9ms/step - loss: 0.2319 - accuracy: 0.9187 - val_loss: 0.3562 - val_accuracy: 0.8750\n",
      "Epoch 33/100\n",
      "10/10 [==============================] - 0s 9ms/step - loss: 0.2306 - accuracy: 0.9187 - val_loss: 0.3577 - val_accuracy: 0.8750\n",
      "Epoch 34/100\n",
      "10/10 [==============================] - 0s 6ms/step - loss: 0.2290 - accuracy: 0.9187 - val_loss: 0.3569 - val_accuracy: 0.8750\n",
      "Epoch 35/100\n",
      "10/10 [==============================] - 0s 5ms/step - loss: 0.2279 - accuracy: 0.9187 - val_loss: 0.3580 - val_accuracy: 0.8750\n",
      "Epoch 36/100\n",
      "10/10 [==============================] - 0s 5ms/step - loss: 0.2269 - accuracy: 0.9187 - val_loss: 0.3593 - val_accuracy: 0.8750\n",
      "Epoch 37/100\n",
      "10/10 [==============================] - 0s 5ms/step - loss: 0.2259 - accuracy: 0.9187 - val_loss: 0.3596 - val_accuracy: 0.8750\n",
      "Epoch 38/100\n",
      "10/10 [==============================] - 0s 5ms/step - loss: 0.2247 - accuracy: 0.9187 - val_loss: 0.3593 - val_accuracy: 0.8750\n",
      "Epoch 39/100\n",
      "10/10 [==============================] - 0s 5ms/step - loss: 0.2239 - accuracy: 0.9187 - val_loss: 0.3639 - val_accuracy: 0.8750\n",
      "Epoch 40/100\n",
      "10/10 [==============================] - 0s 5ms/step - loss: 0.2230 - accuracy: 0.9187 - val_loss: 0.3650 - val_accuracy: 0.8750\n",
      "Epoch 41/100\n",
      "10/10 [==============================] - 0s 5ms/step - loss: 0.2219 - accuracy: 0.9187 - val_loss: 0.3663 - val_accuracy: 0.8750\n",
      "Epoch 42/100\n",
      "10/10 [==============================] - 0s 5ms/step - loss: 0.2214 - accuracy: 0.9187 - val_loss: 0.3667 - val_accuracy: 0.8750\n",
      "Epoch 43/100\n",
      "10/10 [==============================] - 0s 5ms/step - loss: 0.2216 - accuracy: 0.9219 - val_loss: 0.3701 - val_accuracy: 0.8625\n",
      "Epoch 44/100\n",
      "10/10 [==============================] - 0s 5ms/step - loss: 0.2210 - accuracy: 0.9219 - val_loss: 0.3632 - val_accuracy: 0.8750\n",
      "Epoch 45/100\n",
      "10/10 [==============================] - 0s 5ms/step - loss: 0.2198 - accuracy: 0.9219 - val_loss: 0.3680 - val_accuracy: 0.8750\n",
      "Epoch 46/100\n",
      "10/10 [==============================] - 0s 6ms/step - loss: 0.2187 - accuracy: 0.9219 - val_loss: 0.3683 - val_accuracy: 0.8750\n",
      "Epoch 47/100\n",
      "10/10 [==============================] - 0s 5ms/step - loss: 0.2183 - accuracy: 0.9219 - val_loss: 0.3704 - val_accuracy: 0.8625\n",
      "Epoch 48/100\n",
      "10/10 [==============================] - 0s 5ms/step - loss: 0.2179 - accuracy: 0.9250 - val_loss: 0.3692 - val_accuracy: 0.8750\n",
      "Epoch 49/100\n",
      "10/10 [==============================] - 0s 5ms/step - loss: 0.2174 - accuracy: 0.9250 - val_loss: 0.3717 - val_accuracy: 0.8625\n",
      "Epoch 50/100\n",
      "10/10 [==============================] - 0s 5ms/step - loss: 0.2173 - accuracy: 0.9250 - val_loss: 0.3747 - val_accuracy: 0.8625\n",
      "Epoch 51/100\n",
      "10/10 [==============================] - 0s 5ms/step - loss: 0.2167 - accuracy: 0.9219 - val_loss: 0.3731 - val_accuracy: 0.8625\n",
      "Epoch 52/100\n",
      "10/10 [==============================] - 0s 5ms/step - loss: 0.2159 - accuracy: 0.9250 - val_loss: 0.3733 - val_accuracy: 0.8625\n",
      "Epoch 53/100\n",
      "10/10 [==============================] - 0s 5ms/step - loss: 0.2156 - accuracy: 0.9250 - val_loss: 0.3740 - val_accuracy: 0.8625\n",
      "Epoch 54/100\n",
      "10/10 [==============================] - 0s 5ms/step - loss: 0.2159 - accuracy: 0.9250 - val_loss: 0.3773 - val_accuracy: 0.8625\n",
      "Epoch 55/100\n",
      "10/10 [==============================] - 0s 5ms/step - loss: 0.2151 - accuracy: 0.9250 - val_loss: 0.3754 - val_accuracy: 0.8625\n",
      "Epoch 56/100\n",
      "10/10 [==============================] - 0s 6ms/step - loss: 0.2146 - accuracy: 0.9250 - val_loss: 0.3731 - val_accuracy: 0.8625\n",
      "Epoch 57/100\n",
      "10/10 [==============================] - 0s 5ms/step - loss: 0.2142 - accuracy: 0.9250 - val_loss: 0.3764 - val_accuracy: 0.8625\n",
      "Epoch 58/100\n",
      "10/10 [==============================] - 0s 5ms/step - loss: 0.2140 - accuracy: 0.9250 - val_loss: 0.3794 - val_accuracy: 0.8625\n"
     ]
    },
    {
     "name": "stdout",
     "output_type": "stream",
     "text": [
      "Epoch 59/100\n",
      "10/10 [==============================] - 0s 5ms/step - loss: 0.2135 - accuracy: 0.9250 - val_loss: 0.3785 - val_accuracy: 0.8625\n",
      "Epoch 60/100\n",
      "10/10 [==============================] - 0s 5ms/step - loss: 0.2131 - accuracy: 0.9250 - val_loss: 0.3787 - val_accuracy: 0.8625\n",
      "Epoch 61/100\n",
      "10/10 [==============================] - 0s 5ms/step - loss: 0.2130 - accuracy: 0.9250 - val_loss: 0.3757 - val_accuracy: 0.8625\n",
      "Epoch 62/100\n",
      "10/10 [==============================] - 0s 5ms/step - loss: 0.2129 - accuracy: 0.9250 - val_loss: 0.3789 - val_accuracy: 0.8625\n",
      "Epoch 63/100\n",
      "10/10 [==============================] - 0s 8ms/step - loss: 0.2124 - accuracy: 0.9281 - val_loss: 0.3805 - val_accuracy: 0.8625\n",
      "Epoch 64/100\n",
      "10/10 [==============================] - 0s 9ms/step - loss: 0.2132 - accuracy: 0.9281 - val_loss: 0.3766 - val_accuracy: 0.8625\n",
      "Epoch 65/100\n",
      "10/10 [==============================] - 0s 9ms/step - loss: 0.2120 - accuracy: 0.9281 - val_loss: 0.3803 - val_accuracy: 0.8625\n",
      "Epoch 66/100\n",
      "10/10 [==============================] - 0s 9ms/step - loss: 0.2123 - accuracy: 0.9281 - val_loss: 0.3813 - val_accuracy: 0.8625\n",
      "Epoch 67/100\n",
      "10/10 [==============================] - 0s 9ms/step - loss: 0.2116 - accuracy: 0.9250 - val_loss: 0.3806 - val_accuracy: 0.8625\n",
      "Epoch 68/100\n",
      "10/10 [==============================] - 0s 9ms/step - loss: 0.2116 - accuracy: 0.9281 - val_loss: 0.3806 - val_accuracy: 0.8625\n",
      "Epoch 69/100\n",
      "10/10 [==============================] - 0s 9ms/step - loss: 0.2111 - accuracy: 0.9281 - val_loss: 0.3787 - val_accuracy: 0.8625\n",
      "Epoch 70/100\n",
      "10/10 [==============================] - 0s 9ms/step - loss: 0.2108 - accuracy: 0.9281 - val_loss: 0.3797 - val_accuracy: 0.8625\n",
      "Epoch 71/100\n",
      "10/10 [==============================] - 0s 9ms/step - loss: 0.2110 - accuracy: 0.9250 - val_loss: 0.3813 - val_accuracy: 0.8625\n",
      "Epoch 72/100\n",
      "10/10 [==============================] - 0s 9ms/step - loss: 0.2104 - accuracy: 0.9281 - val_loss: 0.3829 - val_accuracy: 0.8625\n",
      "Epoch 73/100\n",
      "10/10 [==============================] - 0s 9ms/step - loss: 0.2101 - accuracy: 0.9281 - val_loss: 0.3820 - val_accuracy: 0.8625\n",
      "Epoch 74/100\n",
      "10/10 [==============================] - 0s 9ms/step - loss: 0.2099 - accuracy: 0.9250 - val_loss: 0.3798 - val_accuracy: 0.8625\n",
      "Epoch 75/100\n",
      "10/10 [==============================] - 0s 9ms/step - loss: 0.2100 - accuracy: 0.9312 - val_loss: 0.3847 - val_accuracy: 0.8625\n",
      "Epoch 76/100\n",
      "10/10 [==============================] - 0s 8ms/step - loss: 0.2098 - accuracy: 0.9312 - val_loss: 0.3871 - val_accuracy: 0.8625\n",
      "Epoch 77/100\n",
      "10/10 [==============================] - 0s 9ms/step - loss: 0.2096 - accuracy: 0.9281 - val_loss: 0.3816 - val_accuracy: 0.8625\n",
      "Epoch 78/100\n",
      "10/10 [==============================] - 0s 9ms/step - loss: 0.2098 - accuracy: 0.9250 - val_loss: 0.3770 - val_accuracy: 0.8625\n",
      "Epoch 79/100\n",
      "10/10 [==============================] - 0s 9ms/step - loss: 0.2090 - accuracy: 0.9250 - val_loss: 0.3805 - val_accuracy: 0.8625\n",
      "Epoch 80/100\n",
      "10/10 [==============================] - 0s 9ms/step - loss: 0.2091 - accuracy: 0.9281 - val_loss: 0.3846 - val_accuracy: 0.8625\n",
      "Epoch 81/100\n",
      "10/10 [==============================] - 0s 6ms/step - loss: 0.2090 - accuracy: 0.9281 - val_loss: 0.3816 - val_accuracy: 0.8625\n",
      "Epoch 82/100\n",
      "10/10 [==============================] - 0s 5ms/step - loss: 0.2084 - accuracy: 0.9281 - val_loss: 0.3821 - val_accuracy: 0.8625\n",
      "Epoch 83/100\n",
      "10/10 [==============================] - 0s 5ms/step - loss: 0.2088 - accuracy: 0.9281 - val_loss: 0.3870 - val_accuracy: 0.8625\n",
      "Epoch 84/100\n",
      "10/10 [==============================] - 0s 5ms/step - loss: 0.2083 - accuracy: 0.9312 - val_loss: 0.3827 - val_accuracy: 0.8625\n",
      "Epoch 85/100\n",
      "10/10 [==============================] - 0s 5ms/step - loss: 0.2082 - accuracy: 0.9250 - val_loss: 0.3810 - val_accuracy: 0.8625\n",
      "Epoch 86/100\n",
      "10/10 [==============================] - 0s 5ms/step - loss: 0.2082 - accuracy: 0.9250 - val_loss: 0.3801 - val_accuracy: 0.8625\n",
      "Epoch 87/100\n",
      "10/10 [==============================] - 0s 5ms/step - loss: 0.2076 - accuracy: 0.9250 - val_loss: 0.3815 - val_accuracy: 0.8625\n",
      "Epoch 88/100\n",
      "10/10 [==============================] - 0s 5ms/step - loss: 0.2076 - accuracy: 0.9250 - val_loss: 0.3857 - val_accuracy: 0.8625\n",
      "Epoch 89/100\n",
      "10/10 [==============================] - 0s 5ms/step - loss: 0.2074 - accuracy: 0.9312 - val_loss: 0.3851 - val_accuracy: 0.8625\n",
      "Epoch 90/100\n",
      "10/10 [==============================] - 0s 5ms/step - loss: 0.2073 - accuracy: 0.9312 - val_loss: 0.3835 - val_accuracy: 0.8625\n",
      "Epoch 91/100\n",
      "10/10 [==============================] - 0s 5ms/step - loss: 0.2072 - accuracy: 0.9281 - val_loss: 0.3836 - val_accuracy: 0.8625\n",
      "Epoch 92/100\n",
      "10/10 [==============================] - 0s 5ms/step - loss: 0.2072 - accuracy: 0.9281 - val_loss: 0.3865 - val_accuracy: 0.8625\n",
      "Epoch 93/100\n",
      "10/10 [==============================] - 0s 5ms/step - loss: 0.2073 - accuracy: 0.9312 - val_loss: 0.3828 - val_accuracy: 0.8625\n",
      "Epoch 94/100\n",
      "10/10 [==============================] - 0s 5ms/step - loss: 0.2079 - accuracy: 0.9281 - val_loss: 0.3844 - val_accuracy: 0.8625\n",
      "Epoch 95/100\n",
      "10/10 [==============================] - 0s 5ms/step - loss: 0.2079 - accuracy: 0.9250 - val_loss: 0.3830 - val_accuracy: 0.8625\n",
      "Epoch 96/100\n",
      "10/10 [==============================] - 0s 5ms/step - loss: 0.2064 - accuracy: 0.9250 - val_loss: 0.3837 - val_accuracy: 0.8625\n",
      "Epoch 97/100\n",
      "10/10 [==============================] - 0s 5ms/step - loss: 0.2062 - accuracy: 0.9250 - val_loss: 0.3838 - val_accuracy: 0.8625\n",
      "Epoch 98/100\n",
      "10/10 [==============================] - 0s 5ms/step - loss: 0.2063 - accuracy: 0.9250 - val_loss: 0.3822 - val_accuracy: 0.8625\n",
      "Epoch 99/100\n",
      "10/10 [==============================] - 0s 5ms/step - loss: 0.2062 - accuracy: 0.9250 - val_loss: 0.3808 - val_accuracy: 0.8625\n",
      "Epoch 100/100\n",
      "10/10 [==============================] - 0s 5ms/step - loss: 0.2060 - accuracy: 0.9250 - val_loss: 0.3839 - val_accuracy: 0.8625\n"
     ]
    }
   ],
   "source": [
    "model = Sequential()\n",
    "\n",
    "model.add(Dense(128,activation='relu',input_dim=2))\n",
    "model.add(Dense(1,activation='sigmoid'))\n",
    "\n",
    "model.compile(optimizer='adam',loss='binary_crossentropy',metrics=['accuracy'])\n",
    "\n",
    "history = model.fit(x_train_scaled,y_train,validation_data=(x_test_scaled,y_test),epochs=100)"
   ]
  },
  {
   "cell_type": "code",
   "execution_count": 20,
   "id": "82838566",
   "metadata": {},
   "outputs": [
    {
     "data": {
      "image/png": "[encoded data removed]",
      "text/plain": [
       "<Figure size 432x288 with 1 Axes>"
      ]
     },
     "metadata": {
      "needs_background": "light"
     },
     "output_type": "display_data"
    }
   ],
   "source": [
    "plt.plot(history.history['val_accuracy'],label=\"traning\" )\n",
    "\n",
    "plt.legend()\n",
    "plt.show()"
   ]
  },
  {
   "cell_type": "code",
   "execution_count": null,
   "id": "967079f4",
   "metadata": {},
   "outputs": [],
   "source": []
  }
 ],
 "metadata": {
  "kernelspec": {
   "display_name": "Python 3 (ipykernel)",
   "language": "python",
   "name": "python3"
  },
  "language_info": {
   "codemirror_mode": {
    "name": "ipython",
    "version": 3
   },
   "file_extension": ".py",
   "mimetype": "text/x-python",
   "name": "python",
   "nbconvert_exporter": "python",
   "pygments_lexer": "ipython3",
   "version": "3.9.12"
  },
  "varInspector": {
   "cols": {
    "lenName": 16,
    "lenType": 16,
    "lenVar": 40
   },
   "kernels_config": {
    "python": {
     "delete_cmd_postfix": "",
     "delete_cmd_prefix": "del ",
     "library": "var_list.py",
     "varRefreshCmd": "print(var_dic_list())"
    },
    "r": {
     "delete_cmd_postfix": ") ",
     "delete_cmd_prefix": "rm(",
     "library": "var_list.r",
     "varRefreshCmd": "cat(var_dic_list()) "
    }
   },
   "types_to_exclude": [
    "module",
    "function",
    "builtin_function_or_method",
    "instance",
    "_Feature"
   ],
   "window_display": false
  }
 },
 "nbformat": 4,
 "nbformat_minor": 5
}
